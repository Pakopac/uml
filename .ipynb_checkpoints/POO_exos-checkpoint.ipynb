{
 "cells": [
  {
   "cell_type": "markdown",
   "metadata": {},
   "source": [
    "# POO exos"
   ]
  },
  {
   "cell_type": "markdown",
   "metadata": {},
   "source": [
    "## Le compte bancaire"
   ]
  },
  {
   "cell_type": "code",
   "execution_count": 54,
   "metadata": {},
   "outputs": [],
   "source": [
    "class CompteBancaire:\n",
    "    def __init__(self, nom='Dupont', solde=1000):\n",
    "        self.nom = nom\n",
    "        self.solde = solde\n",
    "        \n",
    "    def depot(self,somme):\n",
    "        self.solde = self.solde + somme\n",
    "    \n",
    "    def retrait(self, somme):\n",
    "        self.solde = self.solde - somme\n",
    "    \n",
    "    def affiche(self):\n",
    "        return \"Le solde du compte bancaire de{} est de {}\".format(self.nom,self.solde)"
   ]
  },
  {
   "cell_type": "code",
   "execution_count": 58,
   "metadata": {},
   "outputs": [
    {
     "data": {
      "text/plain": [
       "'Le solde du compte bancaire deDuchmol est de 950'"
      ]
     },
     "execution_count": 58,
     "metadata": {},
     "output_type": "execute_result"
    }
   ],
   "source": [
    "compte1 = CompteBancaire('Duchmol', 800)\n",
    "compte1.depot(350)\n",
    "compte1.retrait(200)\n",
    "compte1.affiche()"
   ]
  },
  {
   "cell_type": "code",
   "execution_count": 59,
   "metadata": {},
   "outputs": [
    {
     "data": {
      "text/plain": [
       "'Le solde du compte bancaire deDupont est de 1025'"
      ]
     },
     "execution_count": 59,
     "metadata": {},
     "output_type": "execute_result"
    }
   ],
   "source": [
    "compte2 = CompteBancaire()\n",
    "compte2.depot(25)\n",
    "compte2.affiche()"
   ]
  },
  {
   "cell_type": "markdown",
   "metadata": {},
   "source": [
    "## La surcharge d'opérateur"
   ]
  },
  {
   "cell_type": "code",
   "execution_count": 88,
   "metadata": {},
   "outputs": [],
   "source": [
    "class Point:\n",
    "    def __init__(self, x, y, z=None):\n",
    "        self.x = float(x)\n",
    "        self.y = float(y)\n",
    "        self.z = z\n",
    "    \n",
    "    def ToString(self):\n",
    "        if(self.z):\n",
    "            return \"P({}, {}, {})\".format(self.x,self.y,float(self.z))\n",
    "        else:\n",
    "            return \"P({}, {})\".format(self.x,self.y)"
   ]
  },
  {
   "cell_type": "code",
   "execution_count": 89,
   "metadata": {},
   "outputs": [
    {
     "data": {
      "text/plain": [
       "'P(2.0, 3.0)'"
      ]
     },
     "execution_count": 89,
     "metadata": {},
     "output_type": "execute_result"
    }
   ],
   "source": [
    "P1=Point(2,3)\n",
    "P1.ToString()"
   ]
  },
  {
   "cell_type": "code",
   "execution_count": 90,
   "metadata": {},
   "outputs": [
    {
     "data": {
      "text/plain": [
       "'P(1.0, -5.0, 6.0)'"
      ]
     },
     "execution_count": 90,
     "metadata": {},
     "output_type": "execute_result"
    }
   ],
   "source": [
    "P2=Point(1,-5,6)\n",
    "P2.ToString()"
   ]
  },
  {
   "cell_type": "markdown",
   "metadata": {},
   "source": [
    "## L'héritage simple"
   ]
  },
  {
   "cell_type": "code",
   "execution_count": 202,
   "metadata": {},
   "outputs": [],
   "source": [
    "import datetime\n",
    "class DateNaissance:\n",
    "    def __init__(self, day, month, year):\n",
    "        self.day = day\n",
    "        self.month = month\n",
    "        self.year = year\n",
    "    \n",
    "    def ToString(self):\n",
    "        return \"{} / {} / {}\".format(self.day, self.month, self.year)\n",
    "\n",
    "class Person:\n",
    "    def __init__(self, lastname, firstname, birthdate):\n",
    "        self.lastname = lastname\n",
    "        self.firstname = firstname\n",
    "        self.birthdate = birthdate\n",
    "    \n",
    "    def Afficher (self):\n",
    "        print(\"Nom: {}\".format(self.lastname))\n",
    "        print(\"Prenom: {}\".format(self.firstname))\n",
    "        print(\"Date de naissance: {}\".format(self.birthdate.ToString()))\n",
    "        \n",
    "class Employe(Person):\n",
    "    def __init__(self,lastname, firstname, birthdate, salaries):\n",
    "        self.lastname = lastname\n",
    "        self.firstname = firstname\n",
    "        self.birthdate = birthdate\n",
    "        self.salaries = salaries\n",
    "    \n",
    "    def Affichage(self):\n",
    "        Person.Afficher(self)\n",
    "        print(\"Salaire: {}\".format(self.salaries))\n",
    "        \n",
    "class Chef(Employe):\n",
    "    def __init__(self,lastname, firstname, birthdate, salaries, service):\n",
    "        self.lastname = lastname\n",
    "        self.firstname = firstname\n",
    "        self.birthdate = birthdate\n",
    "        self.salaries = salaries\n",
    "        self.service = service\n",
    "    \n",
    "    def Affichage(self):\n",
    "        Employe.Afficher(self)\n",
    "        print(\"service: {}\".format(self.service))"
   ]
  },
  {
   "cell_type": "code",
   "execution_count": 203,
   "metadata": {},
   "outputs": [
    {
     "name": "stdout",
     "output_type": "stream",
     "text": [
      "Nom: Ilyass\n",
      "Prenom: Math\n",
      "Date de naissance: 1 / 7 / 1982\n"
     ]
    }
   ],
   "source": [
    "P=Person(\"Ilyass\",\"Math\",DateNaissance(1,7,1982))\n",
    "P.Afficher()"
   ]
  },
  {
   "cell_type": "code",
   "execution_count": 204,
   "metadata": {},
   "outputs": [
    {
     "name": "stdout",
     "output_type": "stream",
     "text": [
      "Nom: Ilyass\n",
      "Prenom: Math\n",
      "Date de naissance: 1 / 7 / 1985\n"
     ]
    }
   ],
   "source": [
    "E=Employe(\"Ilyass\",\"Math\",DateNaissance(1,7,1985),7865.548)\n",
    "E.Afficher()"
   ]
  },
  {
   "cell_type": "code",
   "execution_count": 205,
   "metadata": {},
   "outputs": [
    {
     "name": "stdout",
     "output_type": "stream",
     "text": [
      "Nom: Ilyass\n",
      "Prenom: Math\n",
      "Date de naissance: 1 / 7 / 1988\n"
     ]
    }
   ],
   "source": [
    "Ch=Chef(\"Ilyass\",\"Math\",DateNaissance(1,7,1988),7865.548,\"Ressource humaine\")\n",
    "Ch.Afficher()"
   ]
  },
  {
   "cell_type": "markdown",
   "metadata": {},
   "source": [
    "## Le polymorphisme"
   ]
  },
  {
   "cell_type": "code",
   "execution_count": 13,
   "metadata": {},
   "outputs": [],
   "source": [
    "class Lettre:\n",
    "    def __init__(self, expedition, destination, height, mode, letterFormat):\n",
    "        self.expedition = expedition\n",
    "        self.destination = destination\n",
    "        self.height = height\n",
    "        self.mode = mode\n",
    "        self.letterFormat = letterFormat\n",
    "    \n",
    "    def calculTimbre(self):\n",
    "        base = 0\n",
    "        if(self.mode == \"A4\"):\n",
    "            base = 3.50\n",
    "        elif(self.mode == \"A3\"):\n",
    "            base = 2.50\n",
    "        return base + 1.0 * self.height / 1000\n",
    "    \n",
    "class Colis:\n",
    "    def __init__(self, expedition, destination, height, volume):\n",
    "        self.expedition = expedition\n",
    "        self.destination = destination\n",
    "        self.height = height\n",
    "        self.volume = volume\n",
    "    \n",
    "    def calculTimbre(self):\n",
    "        return 0.25 * self.volume"
   ]
  },
  {
   "cell_type": "code",
   "execution_count": 14,
   "metadata": {},
   "outputs": [],
   "source": [
    "L1=Lettre(\"Lille\",\"Paris\",80,\"normal\",\"A4\")"
   ]
  },
  {
   "cell_type": "code",
   "execution_count": 15,
   "metadata": {},
   "outputs": [
    {
     "data": {
      "text/plain": [
       "0.08"
      ]
     },
     "execution_count": 15,
     "metadata": {},
     "output_type": "execute_result"
    }
   ],
   "source": [
    "L1.calculTimbre()"
   ]
  },
  {
   "cell_type": "code",
   "execution_count": null,
   "metadata": {},
   "outputs": [],
   "source": []
  }
 ],
 "metadata": {
  "kernelspec": {
   "display_name": "Python 3",
   "language": "python",
   "name": "python3"
  },
  "language_info": {
   "codemirror_mode": {
    "name": "ipython",
    "version": 3
   },
   "file_extension": ".py",
   "mimetype": "text/x-python",
   "name": "python",
   "nbconvert_exporter": "python",
   "pygments_lexer": "ipython3",
   "version": "3.6.9"
  }
 },
 "nbformat": 4,
 "nbformat_minor": 4
}
