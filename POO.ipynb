{
 "cells": [
  {
   "cell_type": "code",
   "execution_count": 1,
   "metadata": {},
   "outputs": [],
   "source": [
    "class MyClass:\n",
    "    pass"
   ]
  },
  {
   "cell_type": "code",
   "execution_count": 2,
   "metadata": {},
   "outputs": [],
   "source": [
    "class DescriptionDelObject:\n",
    "    \n",
    "    #une méthode est une function qu'on définie tel que:\n",
    "    def la_methode(objet_en_cours):\n",
    "        print(\"test\")"
   ]
  },
  {
   "cell_type": "code",
   "execution_count": 3,
   "metadata": {},
   "outputs": [
    {
     "data": {
      "text/plain": [
       "<bound method DescriptionDelObject.la_methode of <__main__.DescriptionDelObject object at 0x7fea781e4048>>"
      ]
     },
     "execution_count": 3,
     "metadata": {},
     "output_type": "execute_result"
    }
   ],
   "source": [
    "#on redéfinit la variable MonObjet\n",
    "MonObjet = DescriptionDelObject()\n",
    "#on peut maintenant appeler la méthode de notre objet\n",
    "MonObjet.la_methode"
   ]
  },
  {
   "cell_type": "code",
   "execution_count": 4,
   "metadata": {},
   "outputs": [],
   "source": [
    "class DescriptionDelObjectsBis:\n",
    "    def une_methode(objet_en_cours):\n",
    "        return objet_en_cours"
   ]
  },
  {
   "cell_type": "code",
   "execution_count": 5,
   "metadata": {},
   "outputs": [
    {
     "data": {
      "text/plain": [
       "<bound method DescriptionDelObjectsBis.une_methode of <__main__.DescriptionDelObjectsBis object at 0x7fea781e4550>>"
      ]
     },
     "execution_count": 5,
     "metadata": {},
     "output_type": "execute_result"
    }
   ],
   "source": [
    "ObjetBis = DescriptionDelObjectsBis()\n",
    "ObjetBis.une_methode"
   ]
  },
  {
   "cell_type": "code",
   "execution_count": 9,
   "metadata": {},
   "outputs": [
    {
     "name": "stdout",
     "output_type": "stream",
     "text": [
      "un truc\n"
     ]
    }
   ],
   "source": [
    "class UneClasse:\n",
    "    def une_methode(self):\n",
    "        print('un truc')\n",
    "        \n",
    "ex = UneClasse()\n",
    "ex.une_methode()"
   ]
  },
  {
   "cell_type": "code",
   "execution_count": 12,
   "metadata": {},
   "outputs": [
    {
     "name": "stdout",
     "output_type": "stream",
     "text": [
      "L'objet a bien été crée !\n",
      "La méthode est appelé automatiquement à la déclaration\n"
     ]
    }
   ],
   "source": [
    "class UneAutreClass:\n",
    "    \"\"\"\n",
    "        Un exemple de class pour illustrer la méthode __init__\n",
    "    \"\"\"\n",
    "    def __init__(self):\n",
    "        print(\"L'objet a bien été crée !\")\n",
    "        print(\"La méthode est appelé automatiquement à la déclaration\")\n",
    "        \n",
    "x = UneAutreClass()"
   ]
  },
  {
   "cell_type": "code",
   "execution_count": 13,
   "metadata": {},
   "outputs": [
    {
     "name": "stdout",
     "output_type": "stream",
     "text": [
      "L'objet a bien été crée !\n",
      "La méthode est appelé automatiquement à la déclaration\n"
     ]
    }
   ],
   "source": [
    "y = UneAutreClass()"
   ]
  },
  {
   "cell_type": "code",
   "execution_count": 64,
   "metadata": {},
   "outputs": [],
   "source": [
    "import datetime\n",
    "class Person:\n",
    "    \"\"\"\n",
    "        Implementation d'une classe Personne\n",
    "        : param nom : string\n",
    "    \"\"\"\n",
    "    #constructeur\n",
    "    def __init__(self, lastname, firstname, birthdate):\n",
    "        self.lastname = lastname\n",
    "        self.firstname = firstname\n",
    "        self.birthdate = birthdate\n",
    "        \n",
    "    #une méthode pour afficher notre peronne quand même\n",
    "    def afficher(self):\n",
    "        return (self.lastname, \" \" ,self.firstname)\n",
    "       \n",
    "    #une méthode pour calculer l'age avec le module datetime\n",
    "    def calculerAge(self) -> int:\n",
    "        today = datetime.datetime.now()\n",
    "        return today.year - self.birthdate.year \n"
   ]
  },
  {
   "cell_type": "code",
   "execution_count": 65,
   "metadata": {},
   "outputs": [
    {
     "name": "stdout",
     "output_type": "stream",
     "text": [
      "pacaud lilian 1999-04-01\n"
     ]
    },
    {
     "data": {
      "text/plain": [
       "21"
      ]
     },
     "execution_count": 65,
     "metadata": {},
     "output_type": "execute_result"
    }
   ],
   "source": [
    "p = Person('Pacaud', 'Lilian', datetime.datetime(1999,4,1))\n",
    "obj.afficher()\n",
    "obj.calculerAge()"
   ]
  },
  {
   "cell_type": "markdown",
   "metadata": {},
   "source": [
    "## Get/Set"
   ]
  },
  {
   "cell_type": "code",
   "execution_count": 66,
   "metadata": {},
   "outputs": [],
   "source": [
    "class Voiture:\n",
    "    \n",
    "    def __init__(self):\n",
    "        self._roues = 4\n",
    "    \n",
    "    def _get_roues(self):\n",
    "        print('Récupération du nombre de roues')\n",
    "        return self._roues\n",
    "    \n",
    "    def _set_roues(self,v):\n",
    "        print('Changement du nombre de roues')\n",
    "        self._roues = v\n",
    "        \n",
    "    roues=property(_get_roues, _set_roues)"
   ]
  },
  {
   "cell_type": "code",
   "execution_count": 67,
   "metadata": {},
   "outputs": [
    {
     "name": "stdout",
     "output_type": "stream",
     "text": [
      "Changement du nombre de roues\n",
      "Récupération du nombre de roues\n"
     ]
    },
    {
     "data": {
      "text/plain": [
       "5"
      ]
     },
     "execution_count": 67,
     "metadata": {},
     "output_type": "execute_result"
    }
   ],
   "source": [
    "ma_voiture=Voiture()\n",
    "ma_voiture.roues = 5\n",
    "ma_voiture.roues"
   ]
  },
  {
   "cell_type": "code",
   "execution_count": 69,
   "metadata": {},
   "outputs": [],
   "source": [
    "class Voiture(object):\n",
    "    \n",
    "    def __init__(self):\n",
    "        self._roues = 4\n",
    "    \n",
    "    @property\n",
    "    def roues(self):\n",
    "        print('Récupération du nombre de roues')\n",
    "        return self._roues\n",
    "    \n",
    "    @roues.setter\n",
    "    def roues(self,v):\n",
    "        print('Changement du nombre de roues')\n",
    "        self._roues = v"
   ]
  },
  {
   "cell_type": "markdown",
   "metadata": {},
   "source": [
    "## héritage"
   ]
  },
  {
   "cell_type": "code",
   "execution_count": 72,
   "metadata": {},
   "outputs": [],
   "source": [
    "class Voiture:\n",
    "    \n",
    "    roues = 4\n",
    "    moteur = 1\n",
    "    \n",
    "    def __init__(self):\n",
    "        self.nom = \"A determiner\"\n",
    "    \n",
    "    def allumer(self):\n",
    "        print('La voiture démarre')\n",
    "\n",
    "class VoitureSport(Voiture):\n",
    "\n",
    "    def __init__(self):\n",
    "        self.nom = \"Ferrari\"\n",
    "    \n",
    "    def allumer(self):\n",
    "        Voiture.allumer(self)\n",
    "        print('La voiture de sport démarre')"
   ]
  },
  {
   "cell_type": "code",
   "execution_count": 73,
   "metadata": {},
   "outputs": [
    {
     "name": "stdout",
     "output_type": "stream",
     "text": [
      "La voiture démarre\n",
      "La voiture de sport démarre\n"
     ]
    }
   ],
   "source": [
    "ma_voiture_de_sport = VoitureSport()\n",
    "ma_voiture_de_sport.allumer()"
   ]
  },
  {
   "cell_type": "markdown",
   "metadata": {},
   "source": [
    "## Surcharge"
   ]
  },
  {
   "cell_type": "code",
   "execution_count": 120,
   "metadata": {},
   "outputs": [],
   "source": [
    "class Vecteur:\n",
    "    def __init__(self, x, y):\n",
    "        \"\"\"\n",
    "            Implementation d'un vecteur 2D\n",
    "        \"\"\"\n",
    "        self.x = x\n",
    "        self.y = y\n",
    "    \n",
    "    \n",
    "    def __add__(self, other:Vecteur) -> Vecteur:\n",
    "        \"\"\"\n",
    "            Surcharge de +\n",
    "        \"\"\"\n",
    "        return Vecteur(self.x + other.x, self.y + other.y)\n",
    "    \n",
    "    def __repr__(self):\n",
    "        return \"Vecteur({}, {})\".format(self.x, self.y)"
   ]
  },
  {
   "cell_type": "code",
   "execution_count": 121,
   "metadata": {},
   "outputs": [
    {
     "data": {
      "text/plain": [
       "Vecteur(4, 6)"
      ]
     },
     "execution_count": 121,
     "metadata": {},
     "output_type": "execute_result"
    }
   ],
   "source": [
    "v1 = Vecteur(1,2)\n",
    "v2 = Vecteur(3,4)\n",
    "v1 + v2"
   ]
  }
 ],
 "metadata": {
  "kernelspec": {
   "display_name": "Python 3",
   "language": "python",
   "name": "python3"
  },
  "language_info": {
   "codemirror_mode": {
    "name": "ipython",
    "version": 3
   },
   "file_extension": ".py",
   "mimetype": "text/x-python",
   "name": "python",
   "nbconvert_exporter": "python",
   "pygments_lexer": "ipython3",
   "version": "3.5.2"
  }
 },
 "nbformat": 4,
 "nbformat_minor": 4
}
