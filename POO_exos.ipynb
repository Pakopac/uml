{
 "cells": [
  {
   "cell_type": "markdown",
   "metadata": {},
   "source": [
    "# POO exos"
   ]
  },
  {
   "cell_type": "markdown",
   "metadata": {},
   "source": [
    "## Le compte bancaire"
   ]
  },
  {
   "cell_type": "code",
   "execution_count": 4,
   "metadata": {},
   "outputs": [],
   "source": [
    "class CompteBancaire:\n",
    "    def __init__(self, nom: str ='Dupont', solde: int =1000):\n",
    "        self.nom = nom\n",
    "        self.solde = solde\n",
    "        \n",
    "    def depot(self,somme):\n",
    "        self.solde = self.solde + somme\n",
    "    \n",
    "    def retrait(self, somme):\n",
    "        self.solde = self.solde - somme\n",
    "    \n",
    "    def affiche(self):\n",
    "        return \"Le solde du compte bancaire de{} est de {}\".format(self.nom,self.solde)"
   ]
  },
  {
   "cell_type": "code",
   "execution_count": 5,
   "metadata": {},
   "outputs": [
    {
     "data": {
      "text/plain": [
       "'Le solde du compte bancaire deDuchmol est de 950'"
      ]
     },
     "execution_count": 5,
     "metadata": {},
     "output_type": "execute_result"
    }
   ],
   "source": [
    "compte1 = CompteBancaire('Duchmol', 800)\n",
    "compte1.depot(350)\n",
    "compte1.retrait(200)\n",
    "compte1.affiche()"
   ]
  },
  {
   "cell_type": "code",
   "execution_count": 6,
   "metadata": {},
   "outputs": [
    {
     "data": {
      "text/plain": [
       "'Le solde du compte bancaire deDupont est de 1025'"
      ]
     },
     "execution_count": 6,
     "metadata": {},
     "output_type": "execute_result"
    }
   ],
   "source": [
    "compte2 = CompteBancaire()\n",
    "compte2.depot(25)\n",
    "compte2.affiche()"
   ]
  },
  {
   "cell_type": "markdown",
   "metadata": {},
   "source": [
    "## La surcharge d'opérateur"
   ]
  },
  {
   "cell_type": "code",
   "execution_count": 1,
   "metadata": {},
   "outputs": [],
   "source": [
    "class Point:\n",
    "    def __init__(self, x: float, y: float, z: float=None):\n",
    "        self.x = x\n",
    "        self.y = y\n",
    "        self.z = z\n",
    "    \n",
    "    def ToString(self):\n",
    "        if(self.z):\n",
    "            return \"P({}, {}, {})\".format(self.x,self.y,self.z)\n",
    "        else:\n",
    "            return \"P({}, {})\".format(self.x,self.y)"
   ]
  },
  {
   "cell_type": "code",
   "execution_count": 2,
   "metadata": {},
   "outputs": [
    {
     "data": {
      "text/plain": [
       "'P(2, 3)'"
      ]
     },
     "execution_count": 2,
     "metadata": {},
     "output_type": "execute_result"
    }
   ],
   "source": [
    "P1=Point(2,3)\n",
    "P1.ToString()"
   ]
  },
  {
   "cell_type": "code",
   "execution_count": 3,
   "metadata": {},
   "outputs": [
    {
     "data": {
      "text/plain": [
       "'P(1, -5, 6)'"
      ]
     },
     "execution_count": 3,
     "metadata": {},
     "output_type": "execute_result"
    }
   ],
   "source": [
    "P2=Point(1,-5,6)\n",
    "P2.ToString()"
   ]
  },
  {
   "cell_type": "markdown",
   "metadata": {},
   "source": [
    "## L'héritage simple"
   ]
  },
  {
   "cell_type": "code",
   "execution_count": 59,
   "metadata": {},
   "outputs": [],
   "source": [
    "class DateNaissance:\n",
    "    def __init__(self, day: int, month: int, year: int):\n",
    "        self.day = day\n",
    "        self.month = month\n",
    "        self.year = year\n",
    "    \n",
    "    def ToString(self):\n",
    "        return \"{} / {} / {}\".format(self.day, self.month, self.year)\n",
    "\n",
    "class Person:\n",
    "    def __init__(self, lastname, firstname, birthdate):\n",
    "        self.lastname = lastname\n",
    "        self.firstname = firstname\n",
    "        self.birthdate = birthdate\n",
    "    \n",
    "    def __repr__(self):\n",
    "        return \"Nom: {}\\nPrenom: {}\\nDate de naissance: {}\".format(self.lastname,self.firstname,self.birthdate.ToString())\n",
    "        \n",
    "class Employe(Person):\n",
    "    def __init__(self,lastname, firstname, birthdate, salaries):\n",
    "        Person.__init__(self,lastname,firstname,birthdate)\n",
    "        self.salaries = salaries\n",
    "    \n",
    "    def __repr__(self):\n",
    "        return Person.__repr__(self) + \"\\nSalaire: {}\".format(self.salaries)\n",
    "        \n",
    "class Chef(Employe):\n",
    "    def __init__(self,lastname, firstname, birthdate, salaries, service):\n",
    "        Employe.__init__(self,lastname,firstname,birthdate,salaries)\n",
    "        self.service = service\n",
    "    \n",
    "    def __repr__(self):\n",
    "        return Person.__repr__(self) + \"\\nService: {}\".format(self.service)"
   ]
  },
  {
   "cell_type": "code",
   "execution_count": 60,
   "metadata": {},
   "outputs": [
    {
     "data": {
      "text/plain": [
       "Nom: Ilyass\n",
       "Prenom: Math\n",
       "Date de naissance: 1 / 7 / 1982"
      ]
     },
     "execution_count": 60,
     "metadata": {},
     "output_type": "execute_result"
    }
   ],
   "source": [
    "P=Person(\"Ilyass\",\"Math\",DateNaissance(1,7,1982))\n",
    "P"
   ]
  },
  {
   "cell_type": "code",
   "execution_count": 61,
   "metadata": {},
   "outputs": [
    {
     "data": {
      "text/plain": [
       "Nom: Ilyass\n",
       "Prenom: Math\n",
       "Date de naissance: 1 / 7 / 1985\n",
       "Salaire: 7865.548"
      ]
     },
     "execution_count": 61,
     "metadata": {},
     "output_type": "execute_result"
    }
   ],
   "source": [
    "E=Employe(\"Ilyass\",\"Math\",DateNaissance(1,7,1985),7865.548)\n",
    "E"
   ]
  },
  {
   "cell_type": "code",
   "execution_count": 64,
   "metadata": {},
   "outputs": [
    {
     "data": {
      "text/plain": [
       "Nom: Ilyass\n",
       "Prenom: Math\n",
       "Date de naissance: 1 / 7 / 1988\n",
       "Service: Ressource humaine"
      ]
     },
     "execution_count": 64,
     "metadata": {},
     "output_type": "execute_result"
    }
   ],
   "source": [
    "Ch=Chef(\"Ilyass\",\"Math\",DateNaissance(1,7,1988),7865.548,\"Ressource humaine\")\n",
    "Ch"
   ]
  },
  {
   "cell_type": "markdown",
   "metadata": {},
   "source": [
    "## Le polymorphisme"
   ]
  },
  {
   "cell_type": "code",
   "execution_count": 122,
   "metadata": {},
   "outputs": [],
   "source": [
    "class Courrier:\n",
    "    def __init__(self, destination: str, expedition: str, height: float, mode: str):\n",
    "        self.expedition = expedition\n",
    "        self.destination = destination\n",
    "        self.height = height\n",
    "        self.mode = mode\n",
    "    \n",
    "    def mode(self):\n",
    "        if(self.mode == \"expresse\"):\n",
    "            return 2\n",
    "        else:\n",
    "            return 1\n",
    "    \n",
    "    def __repr__(self):\n",
    "        return \"Adresse destination: {}\\nAdresse expedition: {}\\nPoids: {} grammes\\nMode: {}\\n\".format(self.destination,self.expedition,self.height,self.mode)\n",
    "\n",
    "class Lettre:\n",
    "    def __init__(self, destination: str, expedition: str, height: float, mode: str, letterFormat: str):\n",
    "        Courrier.__init__(self, destination, expedition, height, mode)\n",
    "        self.letterFormat = letterFormat\n",
    "    \n",
    "    def calculTimbre(self):\n",
    "        base = 0\n",
    "        if(self.letterFormat == \"A4\"):\n",
    "            base = 2.50\n",
    "        elif(self.letterFormat == \"A3\"):\n",
    "            base = 3.50\n",
    "        timbre = base * self.height / 1000 * Courrier.mode(self)\n",
    "        return timbre\n",
    "    \n",
    "    def __repr__(self):\n",
    "        return \"Lettre:\\n\" + Courrier.__repr__(self) + \"Format: {}\\nPrix du timbre: {}\".format(self.letterFormat, self.calculTimbre())\n",
    "    \n",
    "class Colis:\n",
    "    def __init__(self, expedition: str, destination: str, height: float, mode: str, volume: float):\n",
    "        Courrier.__init__(self, destination, expedition, height, mode)\n",
    "        self.volume = volume\n",
    "    \n",
    "    def calculTimbre(self):\n",
    "        timbre = 0.25 * self.volume * self.height / 1000 * Courrier.mode(self)\n",
    "        return timbre\n",
    "    \n",
    "    def __repr__(self):\n",
    "        return \"Colis:\\n\" + Courrier.__repr__(self) + \"Volume: {}\\nPrix du timbre: {}\".format(self.volume, self.calculTimbre())"
   ]
  },
  {
   "cell_type": "code",
   "execution_count": 123,
   "metadata": {},
   "outputs": [
    {
     "data": {
      "text/plain": [
       "Lettre:\n",
       "Adresse destination: Lille\n",
       "Adresse expedition: Paris\n",
       "Poids: 80 grammes\n",
       "Mode: normal\n",
       "Format: A4\n",
       "Prix du timbre: 0.2"
      ]
     },
     "execution_count": 123,
     "metadata": {},
     "output_type": "execute_result"
    }
   ],
   "source": [
    "L1=Lettre(\"Lille\",\"Paris\",80,\"normal\",\"A4\")\n",
    "L1"
   ]
  },
  {
   "cell_type": "code",
   "execution_count": 124,
   "metadata": {},
   "outputs": [
    {
     "data": {
      "text/plain": [
       "Colis:\n",
       "Adresse destination: Barcelone\n",
       "Adresse expedition: Marrakeche\n",
       "Poids: 3500 grammes\n",
       "Mode: expresse\n",
       "Volume: 2.25\n",
       "Prix du timbre: 3.9375"
      ]
     },
     "execution_count": 124,
     "metadata": {},
     "output_type": "execute_result"
    }
   ],
   "source": [
    "C1=Colis(\"Marrakeche\",\"Barcelone\",3500,\"expresse\",2.25)\n",
    "C1"
   ]
  },
  {
   "cell_type": "code",
   "execution_count": null,
   "metadata": {},
   "outputs": [],
   "source": []
  }
 ],
 "metadata": {
  "kernelspec": {
   "display_name": "Python 3",
   "language": "python",
   "name": "python3"
  },
  "language_info": {
   "codemirror_mode": {
    "name": "ipython",
    "version": 3
   },
   "file_extension": ".py",
   "mimetype": "text/x-python",
   "name": "python",
   "nbconvert_exporter": "python",
   "pygments_lexer": "ipython3",
   "version": "3.5.2"
  }
 },
 "nbformat": 4,
 "nbformat_minor": 4
}
